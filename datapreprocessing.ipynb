{
 "cells": [
  {
   "cell_type": "code",
   "execution_count": 1,
   "metadata": {
    "execution": {
     "iopub.execute_input": "2020-10-14T01:46:36.626320Z",
     "iopub.status.busy": "2020-10-14T01:46:36.625073Z",
     "iopub.status.idle": "2020-10-14T01:46:42.677013Z",
     "shell.execute_reply": "2020-10-14T01:46:42.676435Z"
    },
    "id": "yG_n40gFzf9s"
   },
   "outputs": [],
   "source": [
    "import tensorflow as tf\n",
    "import pandas as pd\n",
    "import numpy as np\n",
    "import os\n",
    "import time"
   ]
  },
  {
   "cell_type": "code",
   "execution_count": 2,
   "metadata": {},
   "outputs": [],
   "source": [
    "data=pd.read_csv('final_taylor_swift_lyrics.tsv',sep='\\t').drop(columns=['index'])"
   ]
  },
  {
   "cell_type": "code",
   "execution_count": 3,
   "metadata": {},
   "outputs": [
    {
     "data": {
      "text/plain": [
       "['Lover',\n",
       " 'reputation',\n",
       " '1989 (Deluxe)',\n",
       " 'folklore',\n",
       " 'Fearless',\n",
       " 'Red',\n",
       " 'Speak Now (Deluxe)',\n",
       " 'Taylor Swift',\n",
       " 'folklore (Deluxe)',\n",
       " '2004-2005 Demo CD',\n",
       " 'Unreleased Songs',\n",
       " 'Spotify Singles',\n",
       " 'Stripped: Raw & Real',\n",
       " 'Speak Now: World Tour Live (Deluxe)',\n",
       " 'Fearless (Platinum Edition)',\n",
       " 'Taylor Swift  by Concert Genius',\n",
       " 'The Taylor Swift Holiday Collection - EP',\n",
       " '2004 Demo CD',\n",
       " 'Speak Now : World Tour Live (Brazilian Edition)',\n",
       " 'Taylor Swift (Best Buy Exclusive) ',\n",
       " 'Vol. 2 Demo CD',\n",
       " 'Taylor Swift - folklore (Tradução em Português) by Genius Brasil Traduções',\n",
       " '2003 Demo CD',\n",
       " 'Taylor Swift Interviews by Genius Users',\n",
       " 'Taylor Songs 2003 Demo',\n",
       " '2004 Demo CD (Three Songs)',\n",
       " 'Live from SoHo - EP',\n",
       " 'Beautiful Eyes - EP',\n",
       " 'Love Story [UK CD Single] ',\n",
       " 'Taylor Swift (Deluxe)',\n",
       " 'Live from Paris',\n",
       " 'Teardrops On My Guitar - EP']"
      ]
     },
     "execution_count": 3,
     "metadata": {},
     "output_type": "execute_result"
    }
   ],
   "source": [
    "data.album.drop_duplicates().tolist()"
   ]
  },
  {
   "cell_type": "code",
   "execution_count": 4,
   "metadata": {},
   "outputs": [],
   "source": [
    "k=0\n",
    "Not_good_words=['Live','Genius','Demo','folklore']\n",
    "TODEL=[]\n",
    "for alb in data.album.drop_duplicates().tolist():\n",
    "    sp=alb.split()\n",
    "    if len(sp)!=0:\n",
    "        for s in sp:\n",
    "            if s=='Live' or s=='Genius' or s=='Demo' or s=='folklore':\n",
    "                TODEL.append(k)\n",
    "    k=k+1\n"
   ]
  },
  {
   "cell_type": "code",
   "execution_count": 5,
   "metadata": {},
   "outputs": [],
   "source": [
    "alb=np.array(data.album.drop_duplicates().tolist())"
   ]
  },
  {
   "cell_type": "code",
   "execution_count": 6,
   "metadata": {},
   "outputs": [],
   "source": [
    "ALB=[]\n",
    "for a in range(len(alb)):\n",
    "    if a not in TODEL:\n",
    "        ALB.append(alb[a])"
   ]
  },
  {
   "cell_type": "code",
   "execution_count": 7,
   "metadata": {},
   "outputs": [],
   "source": [
    "LIST_ALB_TITLE=[]\n",
    "for a in ALB:\n",
    "    sp=a.split()\n",
    "    LIST_ALB_TITLE.append(sp)"
   ]
  },
  {
   "cell_type": "code",
   "execution_count": 8,
   "metadata": {},
   "outputs": [],
   "source": [
    "ALB=ALB+['folklore']"
   ]
  },
  {
   "cell_type": "code",
   "execution_count": 9,
   "metadata": {},
   "outputs": [],
   "source": [
    "ALB=pd.DataFrame(ALB).drop_duplicates(keep='first')"
   ]
  },
  {
   "cell_type": "code",
   "execution_count": 10,
   "metadata": {},
   "outputs": [],
   "source": [
    "ALB=ALB.drop([15,12])[0].tolist()"
   ]
  },
  {
   "cell_type": "code",
   "execution_count": 11,
   "metadata": {},
   "outputs": [],
   "source": [
    "IND=data[(data.album.isin(ALB)) & (data.lyric=='[Chorus]')].drop_duplicates(subset='song_title').index.tolist()"
   ]
  },
  {
   "cell_type": "code",
   "execution_count": 12,
   "metadata": {},
   "outputs": [],
   "source": [
    "stop=[]\n",
    "for l in data.lyric.tolist():\n",
    "    if l[0]=='[':\n",
    "        stop.append(1)\n",
    "    else:\n",
    "        stop.append(0)"
   ]
  },
  {
   "cell_type": "code",
   "execution_count": 13,
   "metadata": {},
   "outputs": [],
   "source": [
    "data['S']=stop"
   ]
  },
  {
   "cell_type": "code",
   "execution_count": 14,
   "metadata": {},
   "outputs": [],
   "source": [
    "CHORUSES=[]\n",
    "for i in IND:\n",
    "    new_d=data[i+1::]\n",
    "    ss=new_d.S.tolist()\n",
    "    for q in range(len(ss)):\n",
    "        if ss[q]==1:\n",
    "            break\n",
    "    new_d=data[i+1:i+1+q]\n",
    "    CHORUSES.append(new_d.lyric.tolist())"
   ]
  },
  {
   "cell_type": "code",
   "execution_count": 15,
   "metadata": {},
   "outputs": [
    {
     "data": {
      "text/plain": [
       "121"
      ]
     },
     "execution_count": 15,
     "metadata": {},
     "output_type": "execute_result"
    }
   ],
   "source": [
    "CHORUSES.index([\"I didn't bring her up so they could cut her down\\t8\\tNone\\n197\\tUnreleased Songs\\tBrought Up That Way \\tI didn't bring her here so they could shut her out\\t9\\tNone\\n197\\tUnreleased Songs\\tBrought Up That Way \\tI live my whole damn life to see that little girl's smile\\t10\\tNone\\n197\\tUnreleased Songs\\tBrought Up That Way \\tSo why are tears pouring down that sweet face?\\t11\\tNone\\n197\\tUnreleased Songs\\tBrought Up That Way \\tShe wasn't brought up that way\"])"
   ]
  },
  {
   "cell_type": "code",
   "execution_count": 16,
   "metadata": {},
   "outputs": [
    {
     "data": {
      "text/plain": [
       "45"
      ]
     },
     "execution_count": 16,
     "metadata": {},
     "output_type": "execute_result"
    }
   ],
   "source": [
    "CHORUSES.index(['Stood on the cliffside screaming,\\u2005\"Give me a reason\"',\n",
    "  \"Your faithless love's the only hoax I\\u205fbelieve\\u205fin\",\n",
    "  \"Don't\\u205fwant no other\\u205fshade of blue\\u205fbut you\",\n",
    "  'No other sadness in the world would do'])"
   ]
  },
  {
   "cell_type": "code",
   "execution_count": 17,
   "metadata": {},
   "outputs": [
    {
     "data": {
      "text/plain": [
       "13"
      ]
     },
     "execution_count": 17,
     "metadata": {},
     "output_type": "execute_result"
    }
   ],
   "source": [
    "CHORUSES.index(['But I can see us lost\\u2005in the memory',\n",
    "  'August slipped away into a moment in time',\n",
    "  \"'Cause it was never mine\",\n",
    "  'And I can see us twisted in bedsheets',\n",
    "  'August sipped away like a bottle of wine',\n",
    "  \"'Cause you were never mine\"])"
   ]
  },
  {
   "cell_type": "code",
   "execution_count": 18,
   "metadata": {},
   "outputs": [
    {
     "data": {
      "text/plain": [
       "42"
      ]
     },
     "execution_count": 18,
     "metadata": {},
     "output_type": "execute_result"
    }
   ],
   "source": [
    "CHORUSES.index([\"But I'm a\\u205ffire and I'll\\u205fkeep your brittle heart warm\",\n",
    "  'If your cascade, ocean wave blues come',\n",
    "  \"All these people think love's for show\",\n",
    "  'But I would die for you in secret',\n",
    "  \"The devil's in the details, but you got a friend in me\",\n",
    "  'Would it be enough if I could never give you peace?'])"
   ]
  },
  {
   "cell_type": "code",
   "execution_count": 19,
   "metadata": {},
   "outputs": [
    {
     "name": "stderr",
     "output_type": "stream",
     "text": [
      "<ipython-input-19-eba9d7753296>:1: VisibleDeprecationWarning: Creating an ndarray from ragged nested sequences (which is a list-or-tuple of lists-or-tuples-or ndarrays with different lengths or shapes) is deprecated. If you meant to do this, you must specify 'dtype=object' when creating the ndarray\n",
      "  CHORUSES=np.array(CHORUSES)\n"
     ]
    }
   ],
   "source": [
    "CHORUSES=np.array(CHORUSES)"
   ]
  },
  {
   "cell_type": "code",
   "execution_count": 20,
   "metadata": {},
   "outputs": [],
   "source": [
    "CHORUSES=np.delete(CHORUSES,[121,45,13,42])"
   ]
  },
  {
   "cell_type": "code",
   "execution_count": 22,
   "metadata": {},
   "outputs": [],
   "source": [
    "CHORUSES=CHORUSES.tolist()"
   ]
  },
  {
   "cell_type": "code",
   "execution_count": 26,
   "metadata": {},
   "outputs": [],
   "source": [
    "TERM=''\n",
    "for c in range(len(CHORUSES)):\n",
    "    for i in range(len(CHORUSES[c])):\n",
    "        TERM= TERM+ CHORUSES[c][i]+ ' \\n '"
   ]
  },
  {
   "cell_type": "code",
   "execution_count": 27,
   "metadata": {},
   "outputs": [
    {
     "data": {
      "text/plain": [
       "'Can I go where you go? \\n Can we always be this close? \\n Forever and ever, ah \\n Take me out, and take me home \\n You\\'re my, my, my, my lover \\n Ooh, look what you made me do \\n Look what you made me do \\n Look what you just made me do \\n Look what you just made me— \\n Ooh, look what you made me do \\n Look what you made me do \\n Look what you just made me do \\n Look what you just made me do \\n So oh-oh, oh-oh, oh-oh, oh-oh, oh-oh \\n You need to calm down, you\\'re being too loud \\n And I\\'m just like oh-oh, oh-oh, oh-oh, oh-oh, oh-oh (Oh) \\n You need to just stop, like can you just not step on my gown? \\n You need to calm down \\n In the middle of the night, in my dreams \\n You should see the things we do, baby \\n In the middle of the night, in my dreams \\n I know I\\'m gonna be with you, so I take my time \\n Are you ready for it? \\n So it\\'s gonna be forever \\n Or it\\'s gonna go down in flames \\n You can tell me when it\\'s over, mm \\n If the high was worth the pain \\n Got a long list of ex-lovers \\n They\\'ll tell you I\\'m insane \\n \\'Cause you know I love the players \\n And you love the game \\n \\'Cause we\\'re young and we\\'re reckless \\n We\\'ll take this way too far \\n It\\'ll leave you breathless, hmm \\n Or with a nasty scar \\n Got a long list of ex-lovers \\n They\\'ll tell you I\\'m insane \\n But I\\'ve got a blank space, baby \\n And I\\'ll write your name \\n But I knew you \\n Dancin\\' in your Levi\\'s \\n Drunk under a streetlight, I \\n I knew you \\n Hand under my sweatshirt \\n Baby, kiss it better, I \\n But we were something, don\\'t you think so? \\n Roaring twenties, tossing pennies in the pool \\n And if my wishes came true \\n It would\\'ve been you \\n In my defense, I have none \\n For never leaving well enough alone \\n But it would\\'ve been fun \\n If you would\\'ve been the one \\n (Ooh) \\n My baby\\'s fit like a daydream \\n Walking with his head down \\n I\\'m the one he\\'s walking to \\n So call it what you want, yeah \\n Call it what you want to \\n My baby\\'s fly like a jet stream \\n High above the whole scene \\n Loves me like I\\'m brand new \\n So call it what you want, yeah \\n Call it what you want to \\n Is it cool that I said all that? \\n Is it chill that you\\'re in my head? \\n \\'Cause I know that it\\'s delicate (Delicate) \\n Is it cool that I said all that? \\n Is it too soon to do this yet? \\n \\'Cause I know that it\\'s delicate \\n Isn\\'t it? Isn\\'t it? Isn\\'t it? \\n Isn\\'t it? \\n Isn\\'t it? Isn\\'t it? Isn\\'t it? \\n Isn\\'t it... delicate? \\n And it\\'s new, the shape of your body \\n It\\'s blue, the feeling I\\'ve got \\n And it\\'s ooh, whoa oh \\n It\\'s a cruel summer \\n It\\'s cool, that\\'s what I tell \\'em \\n No rules in breakable heaven \\n But ooh, whoa oh \\n It\\'s a cruel summer \\n With you \\n You got that James Dean daydream look in your eye \\n And I got that red lip classic thing that you like \\n And when we go crashing down, we come back every time \\n \\'Cause we never go out of style, we never go out of style \\n You got that long hair, slicked back, white t-shirt \\n And I got that good girl faith and a tight little skirt \\n And when we go crashing down, we come back every time \\n \\'Cause we never go out of style, we never go out of style \\n But if I just showed up at your party \\n Would you have me? Would you want me? \\n Would you tell me to go fuck myself \\n Or lead me to the garden? \\n In the garden, would you trust me \\n If I told you it was just a summer thing? \\n I\\'m only seventeen, I don\\'t know anything \\n But I know I miss you \\n You\\'re so gorgeous \\n I can\\'t say anything to your face \\n \\'Cause look at your face \\n And I\\'m so furious \\n At you for making me feel this way \\n But what can I say? \\n You\\'re gorgeous \\n I’m so sick of running as fast as I can \\n Wondering if I\\'d get there quicker if I was a man \\n And I\\'m so sick of them coming at me again \\n \\'Cause if I was a man, then I\\'d be the man \\n I\\'d be the man \\n I\\'d be the man \\n Don\\'t blame me, love made me crazy \\n If it doesn\\'t, you ain\\'t doin\\' it right \\n Lord, save me, my drug is my baby \\n I\\'ll be usin\\' for the rest of my life \\n They say I did something bad \\n Then why\\'s it feel so good? \\n They say I did something bad \\n But why\\'s it feel so good? \\n Most fun I ever had \\n And I\\'d do it over and over and over again if I could \\n It just felt so good, good \\n I didn\\'t have it in myself to go with grace \\n And you\\'re the hero flying around, saving face \\n And if I\\'m dead to you, why are you at the wake? \\n Cursing my name, wishing I stayed \\n Look at how my tears ricochet \\n Say my name and everything just stops \\n I don\\'t want you like a best friend \\n Only bought this dress so you could take it off \\n Take it oh, ha, ha, ha-ah \\n Carve your name into my bedpost \\n ’Cause I don\\'t want you like a best friend \\n Only bought this dress so you could take it off \\n Take it oh, ha, ha, ha-ah \\n And they said \\n There goes the last great American dynasty \\n Who knows, if she never showed up, what could\\'ve been \\n There goes the maddest woman this town has ever seen \\n She had a marvelous time ruining everything \\n I\\'ve been the archer, I\\'ve been the prey \\n Who could ever leave me, darling \\n But who could stay? \\n ’Cause baby, now we\\'ve got bad blood \\n You know it used to be mad love \\n So take a look what you\\'ve done \\n ’Cause baby, now we\\'ve got bad blood, hey! \\n Now we\\'ve got problems \\n And I don\\'t think we can solve \\'em \\n You made a really deep cut \\n And baby, now we\\'ve got bad blood, hey! \\n Time, curious time \\n Gave me no compasses, gave me no signs \\n Were there clues I didn\\'t see? \\n And isn\\'t it just so pretty to think \\n All along there was some \\n Invisible string \\n Tying you to me? \\n Ooh-ooh-ooh-ooh \\n It\\'s you and me, that\\'s my whole world \\n They whisper in the hallway, \"She\\'s a bad, bad girl\" (Okay) \\n The whole school is rolling fake dice \\n You play stupid games, you win stupid prizes \\n It\\'s you and me, there\\'s nothing like this \\n Miss Americana and The Heartbreak Prince (Okay) \\n We\\'re so sad, we paint the town blue \\n Voted most likely to run away with you \\n You were drivin\\' the getaway car \\n We were flyin’, but we\\'d never get far \\n Don\\'t pretend it\\'s such a mystery \\n Think about the place where you first met me \\n Ridin\\' in a getaway car \\n There were sirens in the beat of your heart \\n Should\\'ve known I\\'d be the first to leave \\n Think about the place where you first met me \\n In a getaway car, oh-oh-oh \\n No, they never get far, oh-oh-ahh \\n No, nothing good starts in a getaway car \\n You know I love a London boy \\n I enjoy walking Camden Market in the afternoon \\n He likes my American smile, like a child when our eyes meet \\n Darling, I fancy you \\n Took me back to Highgate, met all of his best mates \\n So I guess all the rumors are true \\n You know I love a London boy \\n Boy, I fancy you (Ooh) \\n And I hope I never lose you, hope it never ends \\n I\\'d never walk Cornelia Street again \\n That\\'s the kinda heartbreak time could never mend \\n I\\'d never walk Cornelia Street again \\n And baby, I get mystified by how this city screams your name \\n And baby, I\\'m so terrified of if you ever walk away \\n I\\'d never walk Cornelia Street again \\n I\\'d never walk Cornelia Street again \\n And that\\'s the thing about illicit affairs \\n And clandestine meetings and longing stares \\n It\\'s born from just one single glance \\n But it dies and it dies and it dies \\n A million little times \\n Sweet tea in the summer \\n Cross your heart, won\\'t tell no other \\n And though I can’t recall your face \\n I still got love for you \\n Your braids like a pattern \\n Love you to the Moon and to Saturn \\n Passed down like folk songs \\n The love lasts so long \\n And all at once, you are the one I have been waiting for \\n King of my heart, body, and soul, ooh whoa \\n And all at once, you\\'re all I want, I\\'ll never let you go \\n King of my heart, body, and soul, ooh whoa \\n I don\\'t wanna look at anything else now that I saw you \\n I don\\'t wanna think of anything else now that I thought of you \\n I\\'ve been sleeping so long in a 20-year dark night \\n And now I see daylight, I only see daylight \\n I forgot that you existed \\n And I thought that it would kill me, but it didn\\'t \\n And it was so nice \\n So peaceful and quiet \\n I forgot that you existed \\n It isn\\'t love, it isn\\'t hate, it\\'s just indifference \\n I forgot that you \\n Say you\\'ll remember me \\n Standing in a nice dress \\n Staring at the sunset, babe \\n Red lips and rosy cheeks \\n Say you\\'ll see me again \\n Even if it\\'s just in your \\n Wildest dreams, ah-aah, haa \\n Wildest dreams, ah-aah, haa \\n I just wanted you to know that this is me trying \\n I just wanted you to know that this is me trying \\n Saying goodbye is death by a thousand cuts \\n Flashbacks waking me up \\n I get drunk, but it\\'s not enough \\n ’Cause the morning comes and you\\'re not my baby \\n I look through the windows of this love \\n Even though we boarded them up \\n Chandelier\\'s still flickering here \\n ’Cause I can\\'t pretend it\\'s okay when it\\'s not \\n It\\'s death by a thousand cuts \\n And there\\'s nothing like a mad woman \\n What a shame she went mad \\n No one likes a mad woman \\n You made her like that \\n And you\\'ll poke that bear \\'til her claws come out \\n And you find something to wrap your noose around \\n And there\\'s nothing like a mad woman \\n And all the pieces fall right into place \\n Getting caught up in a moment \\n Lipstick on your face \\n So it goes… \\n I\\'m yours to keep \\n And I\\'m yours to lose \\n You know I\\'m not a bad girl, but I \\n Do bad things with you \\n So it goes… \\n I like shiny things, but I\\'d marry you with paper rings \\n Uh huh, that\\'s right \\n Darling, you\\'re the one I want, and \\n I hate accidents except when we went from friends to this \\n Uh huh, that\\'s right \\n Darling, you\\'re the one I want \\n In paper rings, in picture frames, in dirty dreams \\n Oh, you\\'re the one I want \\n This is why we can\\'t have nice things, darling \\n Because you break them \\n I had to take them away \\n This is why we can\\'t have nice things, honey (Oh) \\n Did you think I wouldn\\'t hear all the things you said about me? \\n This is why we can\\'t have nice things \\n Hush, when no one is around, my dear \\n You\\'ll find me on my tallest tiptoes \\n Spinning in my highest heels, love \\n Shining just for you \\n Hush, I know they said the end is near \\n But I\\'m still on my tallest tiptoes \\n Spinning in my highest heels, love \\n Shining just for you \\n But we might just get away with it \\n Religion\\'s in your lips \\n Even if it\\'s a false god \\n We\\'d still worship \\n We might just get away with it \\n The altar is my hips \\n Even if it\\'s a false god \\n We\\'d still worship this love \\n We’d still worship this love \\n We’d still worship this love \\n He got my heartbeat \\n Skipping down 16th Avenue \\n I got that, ah, I mean \\n Wanna see what\\'s under that attitude like \\n I want you, bless my soul \\n And I ain\\'t gotta tell him, I think he knows \\n I think he knows \\n Hey, it\\'s all me, in my head \\n I\\'m the one who burned us down \\n But it\\'s not what I meant \\n Sorry that I hurt you \\n I don\\'t wanna do, I don’t wanna do this to you (Ooh) \\n I don’t wanna lose, I don\\'t wanna lose this with you (Ooh) \\n I need to say, hey, it’s all me, just don\\'t go \\n Meet me in the afterglow \\n But we were dancing \\n Dancing with our hands tied, hands tied \\n Yeah, we were dancing \\n Like it was the first time, first time \\n Yeah, we were dancing \\n Dancing with our hands tied, hands tied \\n Yeah, we were dancing \\n And I had a bad feeling \\n But we were dancing \\n With you I serve, with you I fall down, down \\n Watch you breathe in, watch you breathing out, out \\n \\'Cause the players gonna play, play, play, play, play \\n And the haters gonna hate, hate, hate, hate, hate \\n Baby, I\\'m just gonna shake, shake, shake, shake, shake \\n I shake it off, I shake it off \\n Heartbreakers gonna break, break, break, break, break \\n And the fakers gonna fake, fake, fake, fake, fake \\n Baby, I\\'m just gonna shake, shake, shake, shake, shake \\n I shake it off, I shake it off \\n Rain came pouring down \\n When I was drowning, that\\'s when I could finally breathe \\n And by morning \\n Gone was any trace of you, I think I am finally clean \\n (Oh, oh, oh, oh) \\n It\\'s nice to have a friend (Ooh) \\n It\\'s nice to have a friend (Ooh) \\n Are we out of the woods yet? Are we out of the woods yet? \\n Are we out of the woods yet? Are we out of the woods? \\n Are we in the clear yet? Are we in the clear yet? \\n Are we in the clear yet? In the clear yet? Good \\n Are we out of the woods yet? Are we out of the woods yet? \\n Are we out of the woods yet? Are we out of the woods? \\n Are we in the clear yet? Are we in the clear yet? \\n Are we in the clear yet? In the clear yet? Good \\n (Are we out of the woods?) \\n If you could see that I\\'m the one who understands you \\n Been here all along, so why can\\'t you see? \\n You belong with me, you belong with me \\n \\'Cause I knew you were trouble when you walked in \\n So, shame on me now \\n Flew me to places I\\'d never been \\n \\'Til you put me down, oh \\n I knew you were trouble when you walked in \\n So, shame on me now \\n Flew me to places I\\'d never been \\n Now I\\'m lying on the cold hard ground \\n Oh, oh-oh \\n Trouble, trouble, trouble \\n Oh, oh-oh \\n Trouble, trouble, trouble \\n \\'Cause baby, I could build a castle \\n Out of all the bricks they threw at me \\n And every day is like a battle \\n But every night with us is like a dream \\n Baby, we\\'re the new romantics \\n Come on, come along with me \\n Heartbreak is the national anthem \\n We sing it proudly \\n We are too busy dancing to get knocked off our feet \\n Baby, we\\'re the new romantics \\n The best people in life are free \\n We are never, ever, ever getting back together \\n We are never, ever, ever getting back together \\n You go talk to your friends, talk to my friends, talk to me \\n But we are never, ever, ever, ever getting back together \\n Like, ever \\n I don\\'t know about you, but I\\'m feeling 22 \\n Everything will be alright if you keep me next to you \\n You don\\'t know about me, but I\\'ll bet you want to \\n Everything will be alright if we just keep dancing like we\\'re \\n 22, 22 \\n We found Wonderland \\n You and I got lost in it \\n And we pretended it could last forever (ey, ey) \\n We found Wonderland \\n You and I got lost in it \\n And life was never worse but never better (ey, ey) \\n (Ey, ey, ey, ey, ey) \\n In Wonderland \\n (Ey, ey, ey, ey, ey) \\n In Wonderland \\n (Ey, ey, ey, ey, ey) \\n In Wonderland \\n (Ey, ey, ey, ey, ey) \\n In Wonderland \\n You can hear it in the silence (silence), silence (silence), you \\n You can feel it on the way home (way home), way home (way home), you \\n You can see it with the lights out (lights out), lights out (lights out) \\n You are in love, true love \\n You are in love \\n (Stay!) Hey \\n All you had to do was stay \\n Had me in the palm of your hand \\n Then, why\\'d you have to go and lock me out when I let you in? \\n (Stay!) Hey \\n Now, you say you want it back \\n Now that it\\'s just too late \\n Well, could\\'ve been easy \\n All you had to do was (Stay!) \\n All you had to do was (Stay!) \\n All you had to do was (Stay!) \\n All you had to do was (Stay!) \\n All you had to do was stay \\n And I never saw you coming \\n And I’ll never be the same \\n Baby, I know places we won\\'t be found \\n And they\\'ll be chasing their tails trying to track us down \\n \\'Cause I, I know places we can hide \\n I know places, I know places \\n Dear John, I see it all now that you\\'re gone \\n Don\\'t you think I was too young to be messed with? \\n The girl in the dress cried the whole way home \\n I shoulda known \\n Losing him was blue like I\\'d never known \\n Missing him was dark grey, all alone \\n Forgetting him was like \\n Trying to know somebody you never met \\n But loving him was red \\n Loving him was red \\n Welcome to New York, it\\'s been waiting for you \\n Welcome to New York, welcome to New York \\n Welcome to New York, it\\'s been waiting for you \\n Welcome to New York, welcome to New York \\n It\\'s a new soundtrack, I could dance to this beat, beat, forevermore \\n The lights are so bright but they never blind me, me \\n Welcome to New York, it\\'s been waiting for you \\n Welcome to New York, welcome to New York \\n This night is sparkling \\n Don\\'t you let it go \\n I\\'m wonderstruck \\n Blushing all the way home \\n I\\'ll spend forever \\n Wondering if you knew \\n I was enchanted to meet you \\n I want you for worse or for better \\n I would wait forever and ever \\n Broke your heart, I\\'ll put it back together \\n I would wait forever and ever \\n And that\\'s how it works \\n That\\'s how you get the girl, girl (Oh-oh, oh) \\n And that\\'s how it works \\n That\\'s how you get the girl, girl \\n But now I\\'ll go sit on the floor \\n Wearing your clothes \\n All that I know is \\n I don\\'t know how to be something you miss \\n I never thought we\\'d have a last kiss \\n Never imagined we\\'d end like this \\n Your name, forever the name on my lips \\n And you throw your head back laughing like a little kid \\n I think it\\'s strange that you think I\\'m funny \\'cause he never did \\n I\\'ve been spending the last eight months \\n Thinking all love ever does is break and burn and end \\n But on a Wednesday in a cafe, I watched it begin again \\n Do you remember, we were sitting there, by the water? \\n You put your arm around me for the first time \\n You made a rebel of a careless man\\'s careful daughter \\n You are the best thing that\\'s ever been mine \\n So this is me swallowing my pride \\n Standing in front of you, saying I\\'m sorry for that night \\n And I\\'d go back to December all the time \\n It turns out freedom ain\\'t nothing but missing you \\n Wishing I\\'d realized what I had when you were mine \\n And darling, it was good \\n Never looking down \\n And right there where we stood \\n Was holy ground \\n Someday, I\\'ll be living in a big old city \\n And all you\\'re ever gonna be is mean \\n Someday, I\\'ll be big enough so you can\\'t hit me \\n And all you\\'re ever gonna be is mean \\n Why you gotta be so mean? \\n Long live the walls we crashed through \\n All the kingdom lights shined just for me and you \\n I was screaming, long live all the magic we made \\n And bring on all the pretenders \\n One day, we will be remembered \\n And it was like slow motion \\n Standing there in my party dress \\n In red lipstick \\n With no one to impress \\n And they\\'re all laughing \\n As I\\'m looking around the room \\n But there was one thing missing \\n And that was the moment I knew \\n He\\'s the reason for the teardrops on my guitar \\n The only thing that keeps me wishing on a wishing star \\n He\\'s the song in the car \\n I keep singing, don\\'t know why I do... \\n We had a beautiful magic love there \\n What a sad, beautiful, tragic love affair \\n \\'Cause when you\\'re fifteen and somebody tells you they love you \\n You\\'re gonna believe them \\n And when you\\'re fifteen feeling like there\\'s nothing to figure out \\n Well, count to ten, take it in \\n This is life before you know who you\\'re gonna be \\n Fifteen \\n Drop everything now \\n Meet me in the pouring rain \\n Kiss me on the sidewalk \\n Take away the pain \\n \\'Cause I see sparks fly whenever you smile \\n Get me with those green eyes, baby, as the lights go down \\n Give me something that\\'ll haunt me when you\\'re not around \\n \\'Cause I see sparks fly whenever you smile \\n It\\'s alright, just wait and see \\n Your string of lights is still bright to me \\n Oh, who you are is not where you\\'ve been \\n You\\'re still an innocent \\n You\\'re still an innocent \\n She\\'s not a saint and she\\'s not what you think \\n She\\'s an actress, whoa \\n She\\'s better known for the things that she does \\n On the mattress, whoa \\n Soon she\\'s gonna find stealing other people\\'s toys \\n On the playground won\\'t make you many friends \\n She should keep in mind, she should keep in mind \\n There is nothing I do better than revenge, ha! \\n And I just want to tell you \\n It takes everything in me not to call you \\n And I wish I could run to you \\n And I hope you know that \\n Every time I don’t \\n I almost do, I almost do \\n Our song is the slamming screen door \\n Sneakin\\' out late, tapping on your window \\n When we\\'re on the phone and you talk real slow \\n \\'Cause it\\'s late and your mama don\\'t know \\n Our song is the way you laugh \\n The first date: \"Man, I didn\\'t kiss her, and I should have\" \\n And when I got home \\'fore I said amen \\n Asking God if he could play it again \\n That I\\'m not a princess, this ain\\'t a fairytale \\n I\\'m not the one you\\'ll sweep off her feet, lead her up the stairwell \\n This ain\\'t Hollywood, this is a small town \\n I was a dreamer before you went and let me down \\n Now it\\'s too late for you and your white horse \\n To come around \\n And I don\\'t know how it gets better than this \\n You take my hand and drag me head first, fearless \\n And I don\\'t know why but with you I\\'d dance \\n In a storm in my best dress, fearless \\n Now I\\'m standing alone in a crowded room \\n And we\\'re not speaking \\n And I\\'m dying to know \\n Is it killing you like it\\'s killing me? \\n Yeah, I don\\'t know what to say \\n Since the twist of fate when it all broke down \\n And the story of us looks a lot like a tragedy now \\n Next chapter \\n I said, \"Oh, my, what a marvelous tune\" \\n It was the best night, never would forget how we moved \\n The whole place was dressed to the nines \\n And we were dancing, dancing \\n Like we\\'re made of starlight \\n Like we\\'re made of starlight \\n And I can\\'t breathe without you, but I have to \\n Breathe without you but I have to \\n And this is when the feeling sinks in \\n I don\\'t wanna miss you like this \\n Come back, be here, come back, be here \\n I guess you\\'re in New York today \\n I don\\'t wanna need you this way \\n Come back, be here, come back, be here \\n Come on, come on, don\\'t leave me like this \\n I thought I had you figured out \\n Something\\'s gone terribly wrong \\n You\\'re all I wanted \\n Come on, come on, don\\'t leave me like this \\n I thought I had you figured out \\n Can\\'t breathe whenever you\\'re gone \\n Can\\'t turn back now, I\\'m haunted \\n So don\\'t you worry your pretty little mind \\n People throw rocks at things that shine \\n And life makes love look hard \\n The stakes are high, the water\\'s rough \\n But this love is ours \\n And I stare at the phone, he still hasn\\'t called \\n And then you feel so low you can\\'t feel nothing at all \\n And you flashback to when he said forever and always \\n Oh, and it rains in your bedroom \\n Everything is wrong \\n It rains when you\\'re here and it rains when you\\'re gone \\n \\'Cause I was there when you said forever and always \\n Don\\'t say yes, run away now \\n I\\'ll meet you when you\\'re out \\n Of the church at the back door \\n Don\\'t wait or say a single vow \\n You need to hear me out \\n And they said \"speak now\" \\n But when you think Tim McGraw \\n I hope you think my favorite song \\n The one we danced to all night long \\n The moon like a spotlight on the lake \\n When you think happiness \\n I hope you think that little black dress \\n Think of my head on your chest \\n And my old faded blue jeans \\n When you think Tim McGraw \\n I hope you think of me \\n Oh darling, don\\'t you ever grow up \\n Don\\'t you ever grow up, just stay this little \\n Oh darling, don\\'t you ever grow up \\n Don\\'t you ever grow up, it could stay this simple \\n I won\\'t let nobody hurt you, won\\'t let no one break your heart \\n And no one will desert you \\n Just try to never grow up, never grow up \\n And I used to be on your side \\n Now it\\'s looking like we\\'re going to battle \\n And why you\\'re taking shots at me like \\n Somebody\\'s gonna give you a medal? \\n And I never wanna hurt you \\n But I\\'m tired of taking all these blows \\n And so I\\'d rather be on your side \\n But if you wanna fight \\n Baby let\\'s go, oh, oh \\n Let\\'s go, oh, oh \\n Ahh-ahh-ahh \\n Hey, say that you remember \\n Ai, ai, dancin\\' in September \\n Ai, ai, never was a cloudy day \\n But I miss screaming and fighting and kissing in the rain \\n And it\\'s 2am and I\\'m cursing your name \\n You\\'re so in love that you act insane \\n And that\\'s the way I loved you \\n Breaking down and coming undone \\n It\\'s a roller coaster kind of rush \\n And I never knew I could feel that much \\n And that\\'s the way I loved you \\n You should\\'ve said, \"No\" \\n You should\\'ve gone home \\n You should\\'ve thought twice \\'fore you let it all go \\n You should\\'ve known that word, \\'bout what you did with her’d \\n Get back to me (Get back to me) \\n And I should\\'ve been there, in the back of your mind \\n I shouldn\\'t be asking myself, \"Why?\" \\n You shouldn\\'t be begging for forgiveness at my feet \\n You should\\'ve said no, baby, and you might still have me \\n \\'Cause I can\\'t help it if you look like an angel \\n Can\\'t help it if I wanna kiss you in the rain so \\n Come feel this magic I\\'ve been feeling since I met you \\n Can\\'t help it if there\\'s no one else \\n Mmm, I can\\'t help myself \\n I don\\'t know why all the trees change in the fall \\n But I know you\\'re not scared of anything at all \\n Don\\'t know if Snow White\\'s house is near or far away \\n But I know I had the best day with you today \\n Come back, come back, come back to me like \\n You would, you would if this was a movie \\n Stand in the rain outside till I came out \\n Come back, come back, come back to me like \\n You could, you could if you just said you\\'re sorry \\n I know that we could work it out somehow \\n But if this was a movie you\\'d be here by now \\n You don\\'t have to call anymore \\n I won\\'t pick up the phone \\n This is the last straw \\n Don\\'t wanna hurt anymore \\n And you can tell me that you\\'re sorry \\n But I don\\'t believe you baby like I did before \\n You\\'re not sorry (No no no no) \\n In the middle of the night when I\\'m in this dream \\n It\\'s like a million little stars spelling out your name \\n You got to come on, come on, say that we\\'ll be together \\n Come on, come on, little taste of heaven \\n Because these things will change \\n Can you feel it now? \\n These walls that they put up to hold us back will fall down \\n This revolution, the time will come \\n For us to finally win \\n And we\\'ll sing hallelujah, we\\'ll sing hallelujah \\n Oh, oh \\n Take me back to the house in the backyard tree \\n Said you\\'d beat me up, you were bigger than me \\n You never did, you never did \\n Take me back when our world was one block wide \\n I dared you to kiss me and ran when you tried \\n Just two kids, you and I \\n Oh my my my my \\n I watch superman fly away \\n You\\'ve got a busy day today \\n Go save the world, I\\'ll be around \\n I watch superman fly away \\n Come back, I\\'ll be with you someday \\n I\\'ll be right here on the ground \\n When you come back down \\n I\\'m sick and tired of your attitude \\n I\\'m feeling like I don\\'t know you \\n You tell me that you love me, then cut me down \\n And I need you like a heartbeat \\n But you know you got a mean streak \\n That makes me run for cover when you\\'re around \\n And here\\'s to you and your temper \\n Yes, I remember what you said last night \\n And I know, that you see, what you\\'re doing to me \\n Tell me why \\n You\\'re beautiful \\n Every little piece, love \\n And don\\'t you know \\n You\\'re really gonna be someone \\n Ask anyone \\n And when you find everything you looked for \\n I hope your life will lead you back to my door \\n Oh, but if it don\\'t \\n Stay beautiful \\n Whoa oh, I\\'m feeling you baby \\n Don\\'t be afraid to \\n Jump then fall \\n Jump then fall into me \\n Baby, I\\'m never going to leave you \\n Say that you want to be with me too \\n So I\\'ma stay through it all \\n So jump then fall \\n I lived, and I learned, had you, got burned \\n Held out, held on \\n God knows, too long, you wasted my time \\n Lost tears, swore that I\\'d get out of here \\n No amount of freedom gets you clean \\n I still got you all over me \\n Drop everything now \\n Meet me in the pouring rain \\n Kiss me on the sidewalk \\n Take away the pain \\n \\'Cause I see sparks fly whenever you smile \\n Get me with those green eyes, baby, as the lights go down \\n Give me something that\\'ll haunt me when you\\'re not around \\n \\'Cause I see sparks fly whenever you smile \\n I just want to show you \\n She don\\'t even know you \\n She\\'s never going to love you like I want to \\n And you just see right through me \\n But if you only knew me \\n We could be a beautiful \\n Miracle \\n Unbelievable \\n Instead of just invisible \\n So how can I ever try to be better? \\n Nobody ever lets me in \\n I can still see you, this ain\\'t the best view \\n On the outside looking in \\n I\\'ve been a lot of lonely places \\n I\\'ve never been on the outside \\n I said, \"Leave,\" but all I really want is you \\n To stand outside my window throwing pebbles \\n Screaming, \"I\\'m in love with you\" \\n Wait there in the pouring rain \\n Come back for more \\n And don\\'t you leave \\'cause I know \\n All I need is on the other side of the door \\n I’ll leave my window open \\n ‘Cause I’m too tired at night to call your name \\n Just know I’m right here hoping \\n That you’ll come in with the rain \\n So dim that spotlight, tell me things like \\n I can\\'t take my eyes off of you \\n I\\'m no one special, just another wide-eyed girl \\n Who\\'s desperately in love with you \\n Give me a photograph to hang on my wall, superstar \\n I\\'m alone, on my own, and that\\'s all I know \\n I\\'ll be strong, I\\'ll be wrong, oh but life goes on \\n Oh, I\\'m just a girl, trying to find a place in this world \\n Why would you wanna break a perfectly good heart? \\n Why would you wanna take our love and tear it all apart, now? \\n Why would you wanna make the very first scar? \\n Why would you wanna break a perfectly good heart? \\n Last Christmas I gave you my heart \\n But the very next day, you gave it away \\n This year, to save me from tears \\n I will give it to someone special \\n Baby, this is what you came for \\n Lightning strikes every time she moves \\n And everybody\\'s watching her \\n But she\\'s looking at you, oh, oh \\n You, oh, oh, you, oh, oh \\n You, oh, oh, you, oh, oh \\n You, oh, oh, oh, oh \\n Didn\\'t she call you \\n Didn\\'t she need you bad enough \\n Was there some reason \\n I\\'m not aware of \\n Did you not write it down \\n Just one more thing to do \\n Where were you \\n And didn\\'t she pray too \\n Oh, and it rains in your bedroom, everything is wrong \\n It rains when you\\'re here and it rains when you\\'re gone \\n I was there when you said \"forever and always\" \\n So here you are at my window \\n Guess nobody told you \\n I don’t need don’t need you \\n And I waited so frustrated \\n Who’s gonna hold you \\n I don’t need you don’t need you now \\n And I could tell you his favorite color\\'s green \\n He loves to argue, born on the seventeenth \\n His sister\\'s beautiful, he has his father’s eyes \\n And if you asked me if I love him \\n I’d lie \\n Santa baby, slip a sable under the tree, for me \\n I have been an awful good girl, Santa baby \\n So hurry down the chimney tonight \\n Don\\'t you look in my eyes \\n I might fall in love \\n With a beautiful boy \\n I wish that I could touch \\n You go I hope you think of me \\n As the stars fall down and the heavens fade \\n This girl is begging wait for me \\n X is the shape I drew through your face \\n In permanent marker \\n Oh, yeah \\n Just like the mark you knew you were making \\n Who do you think you are? \\n To write on his heart in \\n Permanent marker \\n And by the way your eyes are dancing \\n I\\'d say the chances of that are getting slim \\n By the way my heart\\'s still breaking \\n It\\'s going to take it a while to love again \\n So many things that I forgot to say \\n By the way \\n He\\'s the reason for the teardrops on my guitar \\n The only thing that keeps me wishing on a wishing star \\n He\\'s the song in the car I keep singing \\n Don\\'t know why I do \\n Tell me \\n You’ll never leave me \\n And I’m not crazy and \\n This is really happening \\n That this is really happening \\n Oh, oh \\n We were babies, we were beautiful and free \\n Oh, oh \\n There was nothing that was out of reach \\n For me and Britney \\n But here I am, an open book \\n Turn the page, it’s all the rage \\n Get a look on the inside \\n Oh, what you get is what you see \\n Baby, you hold the key \\n To the diary of me \\n I\\'d be a stranger in an all night diner \\n Waiting for a love to find her \\n Lonely like a harbor light \\n That\\'s never seen a boat \\n Like a line in an old love letter \\n No one ever wrote \\n Will my love come in a bowl of fire? \\n Will it be filled with hope and desire? \\n Will my love come in a pouring rain? \\n Am I ready for the joy, am I ready for the pain \\n Am I ready for the boy, am I ready for love \\n So why the hell don\\'t you love me? \\n Why the hell don\\'t you need me like I need you? \\n Why you so far above me? \\n Don\\'t you know that there\\'s nothing I wouldn\\'t do? \\n But I was just a toy, which you destroyed \\n Stupid boy \\n I know this shouldn\\'t be a lonely time \\n But there were Christmases when you were mine \\n I could be your favorite blue jeans \\n With the holes in the knees \\n In the bottom of the top drawer \\n I could be your little beauty queen \\n Just a little outta reach \\n Or the girl living next door \\n I\\'ll be your angel giving up her wings \\n If that\\'s what you need \\n I\\'d give everything to be your anything \\n Ooh, life\\'s so sweet right here \\n Ooh, keeping it young and crazy \\n Ooh, just want to stay right here \\n Cause nothing\\'s quite like being with my baby \\n So I guess I owe my friends ten dollars and a six pack \\n Got myself a big country serving of payback \\n I guess I\\'m gonna have to listen to my mama\\'s \"I told you so\" \\n But you ain\\'t worth all that, ten dollars and a six pack \\n It would take Brad Pitt to leave you \\n It takes five seconds to need you \\n When I\\'m mad at all the lovebirds \\n \\'Cause they don\\'t know to play our song \\n I wish that pretty girls couldn\\'t see you \\n I wish that all your roads would lead you right to me \\n \\'Cause that\\'s where you belong \\n Until Brad Pitt comes along \\n All my friends are saying \\n Girl, what are you thinking? \\n You\\'re better off \\n You\\'re better off without him \\n Find yourself another \\n Girl, that boy is trouble \\n You\\'re better off, you\\'re better off \\n They can talk forever, they just don\\'t know better \\n I can\\'t wait for the day I stop pretending \\n That I\\'m really OK when I\\'m not \\n I want to know how it feels to be \\n Over you for real \\n Until I do \\n I\\'ll keep writing songs about you \\n There\\'s a whole a lot of good people in heaven \\n And I don\\'t wanna get there too soon \\n And I know there\\'s a God because I met him \\n And I see it when I\\'m looking at you \\n There ain\\'t no accidents in what we do \\n My name\\'s Heather \\n Guess we\\'re on the same flight \\n Don\\'t mind Gracie \\n She could talk to you all night \\n She\\'s finally well enough to travel \\n Doctor says she\\'s in the clear \\n She\\'s been in and out of hospital \\n Since the beginning of the year \\n If I could drive all night would I find my peace of mind? \\n Would it be a million miles of cold white lies \\n And unfamiliar exit signs? \\n I just drive on by, just south of knowing why \\n If you love me then I love you, swear by the freckles on the moon \\n And maybe this will be enough \\n I\\'d like to keep you til I\\'m old, but if I can\\'t, at least you\\'ll know \\n That, baby, perfect have I loved \\n He says \\'I love you\\' and \\'I really care about you\\' \\n When, he says he\\'ll hold me in his arms when I\\'m afraid \\n When, I\\'ll say, oh, I\\'ll say I love him too \\n And, I care about you, yeah, this ain\\'t no charade \\n Then he\\'ll drive me home listenin\\' to the radio \\n And, he says he really loves me too, he\\'ll do anything \\n Don\\'t walk away now \\n And don\\'t rip my heart out \\n Don\\'t you block me out tonight \\n Honey where are you? \\n And don\\'t hate me for loving you \\n Firefly you drew me to you \\n Your beauty shines and lights up the sky \\n And you don\\'t know it, do you? \\n I wish I could keep you firefly \\n Firefly \\n Once you\\'re gone I know your memory\\'ll \\n Somehow get the best of me \\n So I question everything I do \\n Unsure of turning you away \\n Wondering love how I’ll act today \\n Until you find somebody new \\n So I’ve been holding on \\n Way too long \\n But not another minute \\n I\\'m gonna miss you bad but \\n Can’t call it love if you ain’t in it \\n If you leave I\\'ll be crawling back for more \\n If you need love I\\'ll be standing at your door \\n I\\'ll be sick inside if baby you\\'d be my cure \\n Boy, you got me like a shot to the heart \\n Got me shakin\\' so bad, spilled my coffee in the car \\n Caught a red light I ran right through \\n Gotta call my friends, tell them all about you \\n Always looking like one of those nights \\n When you\\'re thinkin\\' \\'bout kissing \\'til the morning light \\n You got me, you do \\n Well I guess I wished on a plane \\n I thought it was a star \\n I guess what you wrote on paper \\n Wasn\\'t written on your heart \\n Could\\'ve sworn you said you loved me \\n I guess I heard you wrong \\n And I guess I wished on a plane \\n That I thought was a star \\n And that small town daydream \\n Lasted all night \\n \\'Cause tonight all those bright city lights \\n Just look at you look at me \\n Heaven looked down to see \\n We\\'re falling now \\n And there\\'s nothing we ain\\'t too sure of \\n Just two kids making up for lost love \\n And it was a long time coming \\n I waited half my life just to find someone like you \\n I spent a long time finding out love hangs around after you walk out \\n Not knowing it\\'d be a long time going \\n I never talked about the tears I cried \\n All the sleepless nights or the endless fights \\n I never talked about the days he called \\n There was something wrong, it was all my fault \\n I had it all, what a shame, what a fall now \\n But in case you haven\\'t heard the news \\n There wasn\\'t much love to lose \\n Ooh, ooh, ooh, I love you I love you \\n Ooh, ooh, ooh, come a little closer \\n Oh, oh, I love you I love you \\n And I\\'m down to my last breath \\n Trying to get my heels back under my head \\n They say I’ve always known \\n What I wanted \\n My friends and enemies \\n Will tell you it’s true \\n You will find out \\n I always get it \\n I know what I want \\n And it ain’t you \\n Bye, bye, to everything I thought was on my side \\n Bye, bye, baby \\n I want you back but it\\'s coming down to nothing \\n And all you have is to walk away \\n From the one thing I thought would never leave me, yeah \\n Down came the rain \\n Lightning and thunder \\n We tried in vain \\n To hold on to each other \\n Winds of change blew you away from me \\n Right here right now, I feel it on my skin \\n The bitter sting of what we could’ve been \\n Just when our love was like a burning flame \\n Down came the rain \\n So I cross my heart and hope for you \\n Knock on wood and rope the moon \\n I’ll pray for you and me and hope I’m right \\n And I wait around that old wishing well \\n You never know if time will tell \\n I cross my heart and hope for you tonight \\n You and me \\n Baby this is what we do \\n I may see \\n There are people you just come back to \\n So fall back on me \\n Fall back on you \\n Angels fly, in the air tonight \\n Saying wasn\\'t it just like swimming out on the lake? \\n Stars collide in the air so light \\n Or was it just like those promises that you made? On our last night \\n I said, that\\'s when I wake up in the morning \\n That\\'s when after sun is always storming \\n Laughing when I\\'m crying \\n That\\'s when I\\'ll be waiting at the front gate \\n That\\'s when never see your face \\n I let you in, baby that\\'s when \\n Snap buttons on a denim shirt \\n Blue jeans and a little dirt \\n That’s the closest you’ll see me \\n Feet hanging out a pickup truck \\n Crazy and a little rough \\n Running free \\n That’s the closest to a cowboy \\n You’ll see me \\n Do you know when you go \\n You make the sweetest sight at the window \\n If you had never come out of the blue \\n I would have stayed up and Made Up You \\n And buy a one-way ticket on a west bound train \\n See how far I can go \\n \\'Cause I\\'m gonna go out dancing in the pouring rain \\n And talk to someone I don\\'t know \\n I will face the world around me \\n Knowing that I\\'m strong enough to let you go \\n And I will fall in love again \\n Because I can \\n You should\\'ve said no, you should\\'ve gone home \\n You should\\'ve thought twice \\'fore you let it all go \\n You should have known the word \\'bout what you did with her\\'d get back to me \\n And I should\\'ve been there in the back of your mind \\n I shouldn\\'t be asking myself why \\n You shouldn\\'t be begging for forgiveness at my feet \\n You should\\'ve said no, baby, and you might still have me \\n There\\'s a girl that you want \\n She’s everything that I am not \\n And you can\\'t stop thinking about her \\n There\\'s a thin little line \\n And it’s like you cross it every time \\n When you can\\'t stop thinking about her \\n And Now I \\n Can\\'t walk straight \\n Can\\'t talk straight \\n Can\\'t think about anything but the way \\n It should be \\n It could be \\n And till you come \\'round again I\\'ll be \\n Doin\\' what I usually do \\n Thinkin\\' \\'Bout you \\n Oh, ah \\n Like there\\'s a fairytale guy \\n And he whispers sweet lullabies \\n And the music plays from nowhere \\n As we dance in the pale moonlight \\n With candles and fireflies all night \\n Everybody thinks about love \\n I want love they haven\\'t thought of yet \\n You should turn Z93 on \\n Broadway\\'s Electric Barnyard \\n I sing a song called \"Tim McGraw\" \\n Request it and they\\'ll play it all day long \\n I sing in stations all day long \\n But there\\'s nothing like when you\\'re on \\n The Electric Barnyard \\n He\\'s the reason for the teardrops on my guitar \\n The only thing that keeps me wishing on a wishing star \\n He\\'s the song in the car \\n I keep singing, don\\'t know why I do... \\n '"
      ]
     },
     "execution_count": 27,
     "metadata": {},
     "output_type": "execute_result"
    }
   ],
   "source": [
    "TERM"
   ]
  },
  {
   "cell_type": "code",
   "execution_count": 28,
   "metadata": {},
   "outputs": [],
   "source": [
    "f = open(\"choruses.txt\", \"a\")\n",
    "f.write(TERM)\n",
    "f.close()"
   ]
  }
 ],
 "metadata": {
  "accelerator": "GPU",
  "colab": {
   "collapsed_sections": [],
   "name": "text_generation.ipynb",
   "toc_visible": true
  },
  "kernelspec": {
   "display_name": "Python 3",
   "language": "python",
   "name": "python3"
  },
  "language_info": {
   "codemirror_mode": {
    "name": "ipython",
    "version": 3
   },
   "file_extension": ".py",
   "mimetype": "text/x-python",
   "name": "python",
   "nbconvert_exporter": "python",
   "pygments_lexer": "ipython3",
   "version": "3.8.3"
  }
 },
 "nbformat": 4,
 "nbformat_minor": 1
}
